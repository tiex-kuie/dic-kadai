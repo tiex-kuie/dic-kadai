{
 "cells": [
  {
   "cell_type": "code",
   "execution_count": 1,
   "metadata": {},
   "outputs": [],
   "source": [
    "# import\n",
    "import numpy as np\n",
    "import matplotlib.pyplot as plt\n",
    "import statistics"
   ]
  },
  {
   "cell_type": "code",
   "execution_count": 2,
   "metadata": {},
   "outputs": [],
   "source": [
    "# 決定木 (深さ 1) スクラッチ\n",
    "class ScratchDecesionTreeClassifierDepth1():\n",
    "    \"\"\"\n",
    "    深さ1の決定木分類器のスクラッチ実装\n",
    "    Parameters\n",
    "    ----------\n",
    "    verbose : bool\n",
    "      学習過程を出力する場合はTrue\n",
    "    \"\"\"\n",
    "    \n",
    "    def __init__(self, verbose=False):\n",
    "        # ハイパーパラメータを属性として記録\n",
    "        self.verbose = verbose\n",
    "    \n",
    "    def _gini(self,X):\n",
    "        \"\"\"\n",
    "        ジニ不純物の計算\n",
    "        Parameters\n",
    "        ----------\n",
    "        X : 次の形の ndarray, shape (n_samples,)\n",
    "            学習データのラベル値\n",
    "        \"\"\"\n",
    "        unique,count = np.unique(X,return_counts=True)\n",
    "        tmp = 0\n",
    "        \n",
    "        for i in unique:\n",
    "            tmp += (count[unique==i]/np.sum(count))**2\n",
    "        \n",
    "        return 1-tmp\n",
    "        \n",
    "    def fit(self, X, y):\n",
    "        \"\"\"\n",
    "        決定木分類器をトレーニングする\n",
    "        Parameters\n",
    "        ----------\n",
    "        X : 次の形の ndarray、形状 (n_samples、n_features)\n",
    "            訓練データの特徴\n",
    "        y : 次の形の ndarray, shape (n_samples, )\n",
    "            学習データの正解値\n",
    "        \"\"\"\n",
    "        \n",
    "        feature_num = X.shape[1]\n",
    "        \n",
    "        self.gain = 0\n",
    "        for i in range(feature_num):\n",
    "            self.threshold = np.unique(X[:,i])\n",
    "            \n",
    "            for j in self.threshold[1:]:\n",
    "                l = y[X[:,i] < j]\n",
    "                r = y[X[:,i] >=j]\n",
    "                \n",
    "                gini_l = len(l)/(len(l)+len(r))*self._gini(l)\n",
    "                gini_r = len(r)/(len(l)+len(r))*self._gini(r)\n",
    "                \n",
    "                tmp = self._gini(y) -gini_l -gini_r\n",
    "                \n",
    "                if tmp > self.gain:\n",
    "                    self.l_label = statistics.mode(l)\n",
    "                    self.r_label = statistics.mode(r)\n",
    "                    self.feature = i\n",
    "                    self.threshold = j\n",
    "                    self.gain = tmp\n",
    "                    \n",
    "                    # verboseがtrueの場合、学習過程を出力する\n",
    "                    if self.verbose:\n",
    "                        print('feature',self.feature,\n",
    "                              'threshold',self.threshold,\n",
    "                              'gain',self.gain)\n",
    "            \n",
    "    def predict(self, X):\n",
    "        \"\"\"\n",
    "        決定木分類器を使用してラベルを推定する\n",
    "        \"\"\"\n",
    "        \n",
    "        return np.where(X[:,self.feature] < self.threshold,self.l_label,self.r_label)"
   ]
  },
  {
   "cell_type": "code",
   "execution_count": 3,
   "metadata": {},
   "outputs": [],
   "source": [
    "# 決定領域の視覚化\n",
    "from matplotlib.colors import ListedColormap\n",
    "import matplotlib.patches as mpatches\n",
    "\n",
    "def decision_region(X,y,model,step=0.01,\n",
    "                    title='decision region', xlabel='xlabel', ylabel='ylabel',\n",
    "                    target_names=['versicolor', 'virginica']\n",
    "                   ):\n",
    "    \n",
    "    # setting\n",
    "    scatter_color = ['red', 'blue']\n",
    "    contourf_color = ['pink', 'skyblue']\n",
    "    n_class = 2\n",
    "    \n",
    "    # pred\n",
    "    mesh_f0, mesh_f1  = np.meshgrid(np.arange(np.min(X[:,0])-0.5, np.max(X[:,0])+0.5, step), np.arange(np.min(X[:,1])-0.5, np.max(X[:,1])+0.5, step))\n",
    "    mesh = np.c_[np.ravel(mesh_f0),np.ravel(mesh_f1)]\n",
    "    y_pred = model.predict(mesh).reshape(mesh_f0.shape)\n",
    "    \n",
    "    # plot\n",
    "    plt.title(title)\n",
    "    plt.xlabel(xlabel)\n",
    "    plt.ylabel(ylabel)\n",
    "    plt.contourf(mesh_f0, mesh_f1, y_pred, n_class-1, cmap=ListedColormap(contourf_color))\n",
    "    plt.contour(mesh_f0, mesh_f1, y_pred, n_class-1, colors='y', linewidths=3, alpha=0.5)\n",
    "    for i, target in enumerate(set(y)):\n",
    "        plt.scatter(X[y==target][:, 0], X[y==target][:, 1], s=80, color=scatter_color[i], label=target_names[i], marker='o')\n",
    "    patches = [mpatches.Patch(color=scatter_color[i], label=target_names[i]) for i in range(n_class)]\n",
    "    plt.legend(handles=patches)\n",
    "    plt.legend()\n",
    "    plt.show()"
   ]
  },
  {
   "cell_type": "code",
   "execution_count": null,
   "metadata": {},
   "outputs": [],
   "source": []
  },
  {
   "cell_type": "code",
   "execution_count": 4,
   "metadata": {},
   "outputs": [],
   "source": [
    "# 問題1:不純度を求める関数\n",
    "\n",
    "# テストデータで確認\n",
    "\n",
    "X = np.array([0,2,1,-1,4])\n",
    "y = np.array([0,0,0,1,1])"
   ]
  },
  {
   "cell_type": "code",
   "execution_count": 5,
   "metadata": {},
   "outputs": [
    {
     "name": "stdout",
     "output_type": "stream",
     "text": [
      "threshold_value [-1  0  1  2  4]\n"
     ]
    }
   ],
   "source": [
    "threshold_value = np.unique(X)\n",
    "print('threshold_value',threshold_value)"
   ]
  },
  {
   "cell_type": "code",
   "execution_count": 6,
   "metadata": {},
   "outputs": [
    {
     "name": "stdout",
     "output_type": "stream",
     "text": [
      "unique [0 1] unique_counts [3 2]\n"
     ]
    }
   ],
   "source": [
    "# ラベル値による分類\n",
    "u,counts = np.unique(y,return_counts=True)\n",
    "print('unique',u,'unique_counts',counts)"
   ]
  },
  {
   "cell_type": "code",
   "execution_count": 7,
   "metadata": {},
   "outputs": [],
   "source": [
    "# ジニ不純物の計算\n",
    "def _gini(X):\n",
    "    unique,count = np.unique(X,return_counts=True)\n",
    "    \n",
    "    tmp = 0\n",
    "    for i in unique:\n",
    "        tmp += (count[unique==i]/np.sum(count))**2\n",
    "    \n",
    "    return 1-tmp"
   ]
  },
  {
   "cell_type": "code",
   "execution_count": 8,
   "metadata": {},
   "outputs": [
    {
     "name": "stdout",
     "output_type": "stream",
     "text": [
      "0 c1 [1] c2 [0 0 0 1]\n",
      "0 gini_left: [0.] gini_right: [0.375]\n",
      "1 c1 [0 1] c2 [0 0 1]\n",
      "1 gini_left: [0.5] gini_right: [0.44444444]\n",
      "2 c1 [0 0 1] c2 [0 1]\n",
      "2 gini_left: [0.44444444] gini_right: [0.5]\n",
      "4 c1 [0 0 0 1] c2 [1]\n",
      "4 gini_left: [0.375] gini_right: [0.]\n"
     ]
    }
   ],
   "source": [
    "# 各しきい値におけるジニ不純物の計算\n",
    "for i in threshold_value[1:]:\n",
    "    c1 = y[X < i]\n",
    "    c2 = y[X >=i]\n",
    "    \n",
    "    print(i,'c1',c1,'c2',c2)\n",
    "    print(i,'gini_left:',_gini(c1),'gini_right:',_gini(c2))"
   ]
  },
  {
   "cell_type": "code",
   "execution_count": null,
   "metadata": {},
   "outputs": [],
   "source": []
  },
  {
   "cell_type": "code",
   "execution_count": 9,
   "metadata": {},
   "outputs": [
    {
     "name": "stdout",
     "output_type": "stream",
     "text": [
      "0 [0.5]\n",
      "1 [0.33333333]\n",
      "2 [0.33333333]\n",
      "4 [0.5]\n"
     ]
    }
   ],
   "source": [
    "# 問題2:情報利得を求める関数\n",
    "\n",
    "# 各しきい値で情報ゲインを計算する\n",
    "for i in threshold_value[1:]:\n",
    "    c1 = y[X < i]\n",
    "    c2 = y[X >=i]\n",
    "    \n",
    "    left = len(c1)/(len(c1)+len(c2))*_gini(c1)\n",
    "    right = len(c2)/(len(c1)+len(c2))*_gini(c2)\n",
    "    \n",
    "    gain = _gini(X) -left -right\n",
    "    print(i,gain)"
   ]
  },
  {
   "cell_type": "code",
   "execution_count": null,
   "metadata": {},
   "outputs": [],
   "source": []
  },
  {
   "cell_type": "code",
   "execution_count": 10,
   "metadata": {},
   "outputs": [],
   "source": [
    "# 問題3:学習\n",
    "\n",
    "# Sample data 2\n",
    "X = np.array([[-0.44699 , -2.8073  ],[-1.4621  , -2.4586  ],\n",
    "              [ 0.10645 ,  1.9242  ],[-3.5944  , -4.0112  ],\n",
    "              [-0.9888  ,  4.5718  ],[-3.1625  , -3.9606  ],\n",
    "              [ 0.56421 ,  0.72888 ],[-0.60216 ,  8.4636  ],\n",
    "              [-0.61251 , -0.75345 ],[-0.73535 , -2.2718  ],\n",
    "              [-0.80647 , -2.2135  ],[ 0.86291 ,  2.3946  ],\n",
    "              [-3.1108  ,  0.15394 ],[-2.9362  ,  2.5462  ],\n",
    "              [-0.57242 , -2.9915  ],[ 1.4771  ,  3.4896  ],\n",
    "              [ 0.58619 ,  0.37158 ],[ 0.6017  ,  4.3439  ],\n",
    "              [-2.1086  ,  8.3428  ],[-4.1013  , -4.353   ],\n",
    "              [-1.9948  , -1.3927  ],[ 0.35084 , -0.031994],\n",
    "              [ 0.96765 ,  7.8929  ],[-1.281   , 15.6824  ],\n",
    "              [ 0.96765 , 10.083   ],[ 1.3763  ,  1.3347  ],\n",
    "              [-2.234   , -2.5323  ],[-2.9452  , -1.8219  ],\n",
    "              [ 0.14654 , -0.28733 ],[ 0.5461  ,  5.8245  ],\n",
    "              [-0.65259 ,  9.3444  ],[ 0.59912 ,  5.3524  ],\n",
    "              [ 0.50214 , -0.31818 ],[-3.0603  , -3.6461  ],\n",
    "              [-6.6797  ,  0.67661 ],[-2.353   , -0.72261 ],\n",
    "              [ 1.1319  ,  2.4023  ],[-0.12243 ,  9.0162  ],\n",
    "              [-2.5677  , 13.1779  ],[ 0.057313,  5.4681  ]])\n",
    "\n",
    "y = np.array([0, 0, 0, 0, 0, 0, 0, 0, 0, 0, 0, 0, 0, 0, 0, 0, 0, 0, 0, 0,\n",
    "              1, 1,1, 1, 1, 1, 1, 1, 1, 1, 1, 1, 1, 1, 1, 1, 1, 1, 1, 1])"
   ]
  },
  {
   "cell_type": "code",
   "execution_count": 11,
   "metadata": {},
   "outputs": [
    {
     "data": {
      "image/png": "[encoded data removed]",
      "text/plain": [
       "<Figure size 864x576 with 1 Axes>"
      ]
     },
     "metadata": {
      "needs_background": "light"
     },
     "output_type": "display_data"
    }
   ],
   "source": [
    "# 単純なデータの視覚化 2\n",
    "fig = plt.subplots(figsize=(12,8))\n",
    "plt.rcParams[\"font.size\"] = 20\n",
    "plt.scatter(X[y==1,0],X[y==1,1],s=80,label='y=1')\n",
    "plt.scatter(X[y==0,0],X[y==0,1],s=80,label='y=0')\n",
    "plt.legend();"
   ]
  },
  {
   "cell_type": "code",
   "execution_count": 12,
   "metadata": {},
   "outputs": [
    {
     "name": "stdout",
     "output_type": "stream",
     "text": [
      "(32, 2)\n",
      "(32,)\n",
      "(8, 2)\n",
      "(8,)\n"
     ]
    }
   ],
   "source": [
    "# トレーニング データと検証データに分割\n",
    "from sklearn.model_selection import train_test_split\n",
    "X_train, X_valid, y_train, y_valid = \\\n",
    "train_test_split(X,y,train_size=0.8,random_state=None)\n",
    "\n",
    "print(X_train.shape)\n",
    "print(y_train.shape)\n",
    "print(X_valid.shape)\n",
    "print(y_valid.shape)"
   ]
  },
  {
   "cell_type": "code",
   "execution_count": 13,
   "metadata": {},
   "outputs": [
    {
     "name": "stdout",
     "output_type": "stream",
     "text": [
      "feature 0 threshold -4.1013 gain [0.01820817]\n",
      "feature 0 threshold -0.65259 gain [0.01937624]\n",
      "feature 0 threshold -0.57242 gain [0.03039982]\n",
      "feature 0 threshold -0.44699 gain [0.04715402]\n",
      "feature 0 threshold -0.12243 gain [0.068391]\n",
      "feature 1 threshold -2.2135 gain [0.07877604]\n",
      "feature 1 threshold -1.8219 gain [0.10010002]\n"
     ]
    }
   ],
   "source": [
    "# スクラッチ決定木による学習プロセスの可視化\n",
    "clf1 = ScratchDecesionTreeClassifierDepth1(verbose=True)\n",
    "clf1.fit(X_train,y_train)"
   ]
  },
  {
   "cell_type": "code",
   "execution_count": null,
   "metadata": {},
   "outputs": [],
   "source": []
  },
  {
   "cell_type": "code",
   "execution_count": 14,
   "metadata": {},
   "outputs": [
    {
     "name": "stdout",
     "output_type": "stream",
     "text": [
      "[1 1 1 0 1 1 1 1]\n",
      "[1 0 0 1 1 1 1 0]\n"
     ]
    }
   ],
   "source": [
    "# 問題4:推定\n",
    "\n",
    "y_pred = clf1.predict(X_valid)\n",
    "\n",
    "print(y_pred)\n",
    "print(y_valid)"
   ]
  },
  {
   "cell_type": "code",
   "execution_count": null,
   "metadata": {},
   "outputs": [],
   "source": []
  },
  {
   "cell_type": "code",
   "execution_count": 15,
   "metadata": {},
   "outputs": [
    {
     "name": "stdout",
     "output_type": "stream",
     "text": [
      "accuracy 0.5\n",
      "precision 0.5714285714285714\n",
      "recall 0.8\n",
      "f1 0.6666666666666666\n"
     ]
    }
   ],
   "source": [
    "# 問題5:学習と推定\n",
    "\n",
    "# 評価指標\n",
    "from sklearn.metrics import accuracy_score\n",
    "from sklearn.metrics import precision_score\n",
    "from sklearn.metrics import recall_score\n",
    "from sklearn.metrics import f1_score\n",
    "\n",
    "accuracy = accuracy_score(y_valid, y_pred)\n",
    "precision = precision_score(y_valid, y_pred)\n",
    "recall = recall_score(y_valid, y_pred)\n",
    "f1 = f1_score(y_valid, y_pred)\n",
    "\n",
    "print('accuracy',accuracy)\n",
    "print('precision',precision)\n",
    "print('recall',recall)\n",
    "print('f1',f1)"
   ]
  },
  {
   "cell_type": "code",
   "execution_count": 16,
   "metadata": {},
   "outputs": [],
   "source": [
    "# 決定木\n",
    "from sklearn.tree import DecisionTreeClassifier\n",
    "\n",
    "clf2 = DecisionTreeClassifier(max_depth=1)\n",
    "\n",
    "clf2.fit(X_train,y_train)\n",
    "\n",
    "y_pred = clf2.predict(X_valid)"
   ]
  },
  {
   "cell_type": "code",
   "execution_count": 17,
   "metadata": {},
   "outputs": [
    {
     "name": "stdout",
     "output_type": "stream",
     "text": [
      "[1 1 1 0 1 1 1 1]\n",
      "[1 0 0 1 1 1 1 0]\n"
     ]
    }
   ],
   "source": [
    "print(y_pred)\n",
    "print(y_valid)"
   ]
  },
  {
   "cell_type": "code",
   "execution_count": 18,
   "metadata": {},
   "outputs": [
    {
     "name": "stdout",
     "output_type": "stream",
     "text": [
      "accuracy 0.5\n",
      "precision 0.5714285714285714\n",
      "recall 0.8\n",
      "f1 0.6666666666666666\n"
     ]
    }
   ],
   "source": [
    "# 評価指標\n",
    "accuracy = accuracy_score(y_valid, y_pred)\n",
    "precision = precision_score(y_valid, y_pred)\n",
    "recall = recall_score(y_valid, y_pred)\n",
    "f1 = f1_score(y_valid, y_pred)\n",
    "\n",
    "print('accuracy',accuracy)\n",
    "print('precision',precision)\n",
    "print('recall',recall)\n",
    "print('f1',f1)"
   ]
  },
  {
   "cell_type": "code",
   "execution_count": null,
   "metadata": {},
   "outputs": [],
   "source": []
  },
  {
   "cell_type": "code",
   "execution_count": 19,
   "metadata": {},
   "outputs": [
    {
     "data": {
      "image/png": "[encoded data removed]",
      "text/plain": [
       "<Figure size 864x864 with 1 Axes>"
      ]
     },
     "metadata": {
      "needs_background": "light"
     },
     "output_type": "display_data"
    }
   ],
   "source": [
    "# 問題6\n",
    "\n",
    "# スクラッチ決定木分類の結果\n",
    "fit,ax = plt.subplots(figsize=(12,12))\n",
    "plt.rcParams[\"font.size\"] = 20\n",
    "decision_region(X_train,y_train,clf1,target_names=['0', '1'],title='TRAIN')"
   ]
  },
  {
   "cell_type": "code",
   "execution_count": 20,
   "metadata": {},
   "outputs": [
    {
     "data": {
      "image/png": "[encoded data removed]",
      "text/plain": [
       "<Figure size 864x864 with 1 Axes>"
      ]
     },
     "metadata": {
      "needs_background": "light"
     },
     "output_type": "display_data"
    }
   ],
   "source": [
    "# scikit-learn の決定木分類結果\n",
    "fit,ax = plt.subplots(figsize=(12,12))\n",
    "plt.rcParams[\"font.size\"] = 20\n",
    "decision_region(X_train,y_train,clf2,target_names=['0', '1'],title='TRAIN')"
   ]
  },
  {
   "cell_type": "code",
   "execution_count": null,
   "metadata": {},
   "outputs": [],
   "source": []
  },
  {
   "cell_type": "code",
   "execution_count": 21,
   "metadata": {},
   "outputs": [
    {
     "name": "stdout",
     "output_type": "stream",
     "text": [
      "(32, 2)\n",
      "(32,)\n",
      "(8, 2)\n",
      "(8,)\n"
     ]
    }
   ],
   "source": [
    "# 問題7:(アドバンス課題)深さ2の決定木分類器クラスの作成\n",
    "\n",
    "# トレーニングおよび検証データの再生成\n",
    "X_train, X_valid, y_train, y_valid = \\\n",
    "train_test_split(X,y,train_size=0.8,random_state=None)\n",
    "\n",
    "print(X_train.shape)\n",
    "print(y_train.shape)\n",
    "print(X_valid.shape)\n",
    "print(y_valid.shape)"
   ]
  },
  {
   "cell_type": "code",
   "execution_count": 22,
   "metadata": {},
   "outputs": [],
   "source": [
    "# ノードクラス\n",
    "class Node():\n",
    "    \"\"\"\n",
    "    決定木のノードを構成および分離するクラス\n",
    "    Parameters\n",
    "    ----------\n",
    "    verbose : bool\n",
    "      学習過程を出力したい場合はTrue\n",
    "    max_depth : int\n",
    "      決定木の最大学習深度\n",
    "    \"\"\"\n",
    "    def __init__(self, max_depth=None, verbose=False):\n",
    "        # ハイパーパラメータを属性として記録\n",
    "        self.verbose = verbose\n",
    "        self.max_depth = max_depth\n",
    "        self.feature = None\n",
    "        \n",
    "    def _separate(self,X,y,depth):\n",
    "        \"\"\"\n",
    "        CART メソッドを使用してノードを分割\n",
    "        Parameters\n",
    "        ----------\n",
    "        X : 次の形の ndarray、形状 (n_samples、n_features)\n",
    "            訓練データの特徴\n",
    "        y : 次の形の ndarray, shape (n_samples,)\n",
    "            学習データのラベル値\n",
    "        depth : int\n",
    "            このノードの深さ\n",
    "        \"\"\"\n",
    "        self.depth = depth\n",
    "        features = X.shape[1]\n",
    "        \n",
    "        # 分岐後、ジニ純度が0の場合、分岐終了\n",
    "        if len(np.unique(y))==1:\n",
    "            self.label = np.unique(y)[0]\n",
    "            return\n",
    "        \n",
    "        # 最大深度に達すると分岐が終了\n",
    "        if self.depth == self.max_depth:\n",
    "            self.label = statistics.mode(y)\n",
    "            return\n",
    "        \n",
    "        self.gain = 0\n",
    "        for feature_number in range(features):\n",
    "\n",
    "            thresholds = np.unique(X[:,feature_number])\n",
    "            \n",
    "            for threshold_value in thresholds[1:]:\n",
    "                l = y[X[:,feature_number] < threshold_value]\n",
    "                r = y[X[:,feature_number] >=threshold_value]\n",
    "                \n",
    "                gini_l = len(l)/(len(l)+len(r))*self._gini(l)\n",
    "                gini_r = len(r)/(len(l)+len(r))*self._gini(r)\n",
    "                \n",
    "                gain_tmp = self._gini(y) -gini_l -gini_r\n",
    "                \n",
    "                if gain_tmp > self.gain:\n",
    "                    self.feature = feature_number\n",
    "                    self.threshold = threshold_value\n",
    "                    self.gain = gain_tmp\n",
    "                    \n",
    "        # verboseがtrueの場合、学習過程を出力\n",
    "        if self.verbose:\n",
    "            print('depth',self.depth,\n",
    "                  'feature',self.feature,\n",
    "                  'threshold',self.threshold,\n",
    "                  'gain',self.gain)\n",
    "        \n",
    "        # 子ノードの分岐 (左)\n",
    "        l_X = X[X[:,self.feature] < self.threshold]\n",
    "        l_y = y[X[:,self.feature] < self.threshold]\n",
    "        self.left = Node(self.max_depth,self.verbose)\n",
    "        self.left._separate(l_X,l_y,depth+1)\n",
    "        \n",
    "        # 子ノードの分岐 (右)\n",
    "        r_X = X[X[:,self.feature] >=self.threshold]\n",
    "        r_y = y[X[:,self.feature] >=self.threshold]\n",
    "        self.right = Node(self.max_depth,self.verbose)\n",
    "        self.right._separate(r_X,r_y,depth+1)\n",
    "    \n",
    "    def _gini(self,X):\n",
    "        \"\"\"\n",
    "        ジニ不純物の計算\n",
    "        Parameters\n",
    "        ----------\n",
    "        X : 次の形の ndarray, shape (n_samples,)\n",
    "            学習データのラベル値\n",
    "        \"\"\"\n",
    "        unique,count = np.unique(X,return_counts=True)\n",
    "        \n",
    "        impure = 0\n",
    "        for i in unique:\n",
    "            impure += (count[unique==i]/np.sum(count))**2\n",
    "        \n",
    "        return 1-impure\n",
    "    \n",
    "    def _predict(self,X):\n",
    "        \"\"\"\n",
    "        学習した決定木分類器を使用して、ラベルを推定する\n",
    "        \"\"\"\n",
    "        if self.feature == None or self.depth == self.max_depth:\n",
    "            return self.label\n",
    "        \n",
    "        else:\n",
    "            if X[self.feature] < self.threshold:\n",
    "                return self.left._predict(X)\n",
    "            else:\n",
    "                return self.right._predict(X)"
   ]
  },
  {
   "cell_type": "code",
   "execution_count": 23,
   "metadata": {},
   "outputs": [],
   "source": [
    "# スクラッチ決定木\n",
    "class ScratchDecesionTreeClassifier():\n",
    "    \"\"\"\n",
    "    深さ n の決定木分類器のスクラッチ実装\n",
    "    Parameters\n",
    "    ----------\n",
    "    verbose : bool\n",
    "      学習過程を出力したい場合はTrue\n",
    "    max_depth : int\n",
    "      決定木の最大学習深度\n",
    "    \"\"\"\n",
    "    \n",
    "    def __init__(self, max_depth=1,verbose=False):\n",
    "        # ハイパーパラメータを属性として記録\n",
    "        self.verbose = verbose\n",
    "        self.max_depth = max_depth\n",
    "        \n",
    "    def fit(self, X, y):\n",
    "        \"\"\"\n",
    "        決定木分類器をトレーニングする\n",
    "        Parameters\n",
    "        ----------\n",
    "        X : 次の形の ndarray、形状 (n_samples、n_features)\n",
    "            訓練データの特徴\n",
    "        y : 次の形の ndarray, shape (n_samples, )\n",
    "            学習データの正解値\n",
    "        \"\"\"\n",
    "        self.depth=0\n",
    "        self.root = Node(self.max_depth,self.verbose)\n",
    "        self.root._separate(X,y,self.depth)\n",
    "        \n",
    "    def predict(self, X):\n",
    "        \"\"\"\n",
    "        決定木分類器を使用してラベルを推定する\n",
    "        \"\"\"\n",
    "        y_pred = np.zeros(len(X))\n",
    "        \n",
    "        for i,x in enumerate(X):\n",
    "            y_pred[i] = self.root._predict(x)\n",
    "        return y_pred"
   ]
  },
  {
   "cell_type": "code",
   "execution_count": 24,
   "metadata": {},
   "outputs": [],
   "source": [
    "# スクラッチ決定木による深さ2の学習\n",
    "clf3 = ScratchDecesionTreeClassifier(max_depth=2,verbose=False)\n",
    "clf3.fit(X_train,y_train)"
   ]
  },
  {
   "cell_type": "code",
   "execution_count": 25,
   "metadata": {},
   "outputs": [
    {
     "name": "stdout",
     "output_type": "stream",
     "text": [
      "[0. 0. 0. 0. 0. 0. 0. 0.]\n"
     ]
    }
   ],
   "source": [
    "y_pred3 = clf3.predict(X_valid)\n",
    "print(y_pred3)"
   ]
  },
  {
   "cell_type": "code",
   "execution_count": 26,
   "metadata": {},
   "outputs": [
    {
     "data": {
      "image/png": "[encoded data removed]",
      "text/plain": [
       "<Figure size 864x864 with 1 Axes>"
      ]
     },
     "metadata": {
      "needs_background": "light"
     },
     "output_type": "display_data"
    }
   ],
   "source": [
    "# Scratch決定木の決定領域 (深さ 2)\n",
    "fit,ax = plt.subplots(figsize=(12,12))\n",
    "plt.rcParams[\"font.size\"] = 20\n",
    "decision_region(X_train,y_train,clf3,target_names=['0', '1'],title='TRAIN')"
   ]
  },
  {
   "cell_type": "code",
   "execution_count": 27,
   "metadata": {},
   "outputs": [],
   "source": [
    "# 問題8:(アドバンス課題)深さに制限のない決定木分類器クラスの作成\n",
    "\n",
    "# スクラッチ決定木の学習 (深さ n)\n",
    "clf5 = ScratchDecesionTreeClassifier(max_depth=None,verbose=False)\n",
    "clf5.fit(X_train,y_train)"
   ]
  },
  {
   "cell_type": "code",
   "execution_count": 28,
   "metadata": {},
   "outputs": [
    {
     "name": "stdout",
     "output_type": "stream",
     "text": [
      "[1. 0. 1. 1. 0. 1. 1. 0.]\n"
     ]
    }
   ],
   "source": [
    "y_pred5 = clf5.predict(X_valid)\n",
    "print(y_pred5)"
   ]
  },
  {
   "cell_type": "code",
   "execution_count": 29,
   "metadata": {},
   "outputs": [
    {
     "name": "stdout",
     "output_type": "stream",
     "text": [
      "accuracy 0.75\n",
      "precision 1.0\n",
      "recall 0.7142857142857143\n",
      "f1 0.8333333333333333\n"
     ]
    }
   ],
   "source": [
    "accuracy = accuracy_score(y_valid, y_pred5)\n",
    "precision = precision_score(y_valid, y_pred5)\n",
    "recall = recall_score(y_valid, y_pred5)\n",
    "f1 = f1_score(y_valid, y_pred5)\n",
    "\n",
    "print('accuracy',accuracy)\n",
    "print('precision',precision)\n",
    "print('recall',recall)\n",
    "print('f1',f1)"
   ]
  },
  {
   "cell_type": "code",
   "execution_count": 30,
   "metadata": {},
   "outputs": [
    {
     "data": {
      "image/png": "[encoded data removed]",
      "text/plain": [
       "<Figure size 864x864 with 1 Axes>"
      ]
     },
     "metadata": {
      "needs_background": "light"
     },
     "output_type": "display_data"
    }
   ],
   "source": [
    "# スクラッチ決定木の決定領域 (深さ n)\n",
    "fit,ax = plt.subplots(figsize=(12,12))\n",
    "plt.rcParams[\"font.size\"] = 20\n",
    "decision_region(X_train,y_train,clf5,target_names=['0', '1'],title='TRAIN')"
   ]
  },
  {
   "cell_type": "code",
   "execution_count": 31,
   "metadata": {},
   "outputs": [
    {
     "data": {
      "image/png": "[encoded data removed]",
      "text/plain": [
       "<Figure size 864x864 with 1 Axes>"
      ]
     },
     "metadata": {
      "needs_background": "light"
     },
     "output_type": "display_data"
    }
   ],
   "source": [
    "# Sklearn決定木の決定領域 (深さ n)\n",
    "clf_sk = DecisionTreeClassifier(max_depth=None,random_state=None)\n",
    "clf_sk.fit(X_train,y_train)\n",
    "\n",
    "\n",
    "fit,ax = plt.subplots(figsize=(12,12))\n",
    "plt.rcParams[\"font.size\"] = 20\n",
    "decision_region(X_train,y_train,clf_sk,target_names=['0', '1'],title='TRAIN')"
   ]
  },
  {
   "cell_type": "code",
   "execution_count": 32,
   "metadata": {},
   "outputs": [],
   "source": [
    "# ノードを深さ n まで生成するクラス\n",
    "class Test():\n",
    "    def __init__(self,max_depth,lr=None):\n",
    "        self.max_depth = max_depth\n",
    "        self.lr = lr\n",
    "        \n",
    "    def separate(self,depth):\n",
    "        self.depth = depth\n",
    "        \n",
    "        print('Depth',self.depth,'Node',self.lr)\n",
    "        \n",
    "        if self.depth < self.max_depth:\n",
    "            \n",
    "            self.lr += ' left'\n",
    "            self.left = Test(self.max_depth,self.lr)\n",
    "            self.left.separate(depth+1)\n",
    "            \n",
    "            self.lr += ' right'\n",
    "            self.right = Test(self.max_depth,self.lr)\n",
    "            self.right.separate(depth+1)\n",
    "    \n",
    "    def trace(self):\n",
    "        \n",
    "        if self.depth == self.max_depth:\n",
    "            return print('Depth',self.depth,'Reach max_depth')\n",
    "        \n",
    "        else:\n",
    "            print('Depth',self.depth,'Next Left Node')\n",
    "            self.left.trace()\n",
    "            print('Depth',self.depth,'Next Right Node')\n",
    "            self.right.trace()"
   ]
  },
  {
   "cell_type": "code",
   "execution_count": 33,
   "metadata": {},
   "outputs": [
    {
     "name": "stdout",
     "output_type": "stream",
     "text": [
      "Depth 0 Node Root\n",
      "Depth 1 Node Root left\n",
      "Depth 2 Node Root left left\n",
      "Depth 3 Node Root left left left\n",
      "Depth 4 Node Root left left left left\n",
      "Depth 4 Node Root left left left left right\n",
      "Depth 3 Node Root left left left right\n",
      "Depth 4 Node Root left left left right left\n",
      "Depth 4 Node Root left left left right left right\n",
      "Depth 2 Node Root left left right\n",
      "Depth 3 Node Root left left right left\n",
      "Depth 4 Node Root left left right left left\n",
      "Depth 4 Node Root left left right left left right\n",
      "Depth 3 Node Root left left right left right\n",
      "Depth 4 Node Root left left right left right left\n",
      "Depth 4 Node Root left left right left right left right\n",
      "Depth 1 Node Root left right\n",
      "Depth 2 Node Root left right left\n",
      "Depth 3 Node Root left right left left\n",
      "Depth 4 Node Root left right left left left\n",
      "Depth 4 Node Root left right left left left right\n",
      "Depth 3 Node Root left right left left right\n",
      "Depth 4 Node Root left right left left right left\n",
      "Depth 4 Node Root left right left left right left right\n",
      "Depth 2 Node Root left right left right\n",
      "Depth 3 Node Root left right left right left\n",
      "Depth 4 Node Root left right left right left left\n",
      "Depth 4 Node Root left right left right left left right\n",
      "Depth 3 Node Root left right left right left right\n",
      "Depth 4 Node Root left right left right left right left\n",
      "Depth 4 Node Root left right left right left right left right\n"
     ]
    }
   ],
   "source": [
    "# ノードを分割する\n",
    "test = Test(max_depth=4,lr='Root')\n",
    "test.separate(depth=0)"
   ]
  },
  {
   "cell_type": "code",
   "execution_count": 34,
   "metadata": {},
   "outputs": [
    {
     "name": "stdout",
     "output_type": "stream",
     "text": [
      "Depth 0 Next Left Node\n",
      "Depth 1 Next Left Node\n",
      "Depth 2 Next Left Node\n",
      "Depth 3 Next Left Node\n",
      "Depth 4 Reach max_depth\n",
      "Depth 3 Next Right Node\n",
      "Depth 4 Reach max_depth\n",
      "Depth 2 Next Right Node\n",
      "Depth 3 Next Left Node\n",
      "Depth 4 Reach max_depth\n",
      "Depth 3 Next Right Node\n",
      "Depth 4 Reach max_depth\n",
      "Depth 1 Next Right Node\n",
      "Depth 2 Next Left Node\n",
      "Depth 3 Next Left Node\n",
      "Depth 4 Reach max_depth\n",
      "Depth 3 Next Right Node\n",
      "Depth 4 Reach max_depth\n",
      "Depth 2 Next Right Node\n",
      "Depth 3 Next Left Node\n",
      "Depth 4 Reach max_depth\n",
      "Depth 3 Next Right Node\n",
      "Depth 4 Reach max_depth\n",
      "Depth 0 Next Right Node\n",
      "Depth 1 Next Left Node\n",
      "Depth 2 Next Left Node\n",
      "Depth 3 Next Left Node\n",
      "Depth 4 Reach max_depth\n",
      "Depth 3 Next Right Node\n",
      "Depth 4 Reach max_depth\n",
      "Depth 2 Next Right Node\n",
      "Depth 3 Next Left Node\n",
      "Depth 4 Reach max_depth\n",
      "Depth 3 Next Right Node\n",
      "Depth 4 Reach max_depth\n",
      "Depth 1 Next Right Node\n",
      "Depth 2 Next Left Node\n",
      "Depth 3 Next Left Node\n",
      "Depth 4 Reach max_depth\n",
      "Depth 3 Next Right Node\n",
      "Depth 4 Reach max_depth\n",
      "Depth 2 Next Right Node\n",
      "Depth 3 Next Left Node\n",
      "Depth 4 Reach max_depth\n",
      "Depth 3 Next Right Node\n",
      "Depth 4 Reach max_depth\n"
     ]
    }
   ],
   "source": [
    "# 生成されたノードのトレース\n",
    "test.trace()"
   ]
  },
  {
   "cell_type": "code",
   "execution_count": 35,
   "metadata": {},
   "outputs": [],
   "source": [
    "class Test2():\n",
    "    def __init__(self,i_var='Hello'):\n",
    "        self.i_var = i_var\n",
    "        \n",
    "    def __str__(self):\n",
    "        return self.i_var"
   ]
  },
  {
   "cell_type": "code",
   "execution_count": 36,
   "metadata": {},
   "outputs": [
    {
     "name": "stdout",
     "output_type": "stream",
     "text": [
      "Rooo\n"
     ]
    }
   ],
   "source": [
    "print(Test2('Rooo'))"
   ]
  },
  {
   "cell_type": "code",
   "execution_count": null,
   "metadata": {},
   "outputs": [],
   "source": []
  },
  {
   "cell_type": "code",
   "execution_count": null,
   "metadata": {},
   "outputs": [],
   "source": []
  },
  {
   "cell_type": "code",
   "execution_count": null,
   "metadata": {},
   "outputs": [],
   "source": []
  },
  {
   "cell_type": "code",
   "execution_count": null,
   "metadata": {},
   "outputs": [],
   "source": []
  },
  {
   "cell_type": "code",
   "execution_count": null,
   "metadata": {},
   "outputs": [],
   "source": []
  },
  {
   "cell_type": "code",
   "execution_count": null,
   "metadata": {},
   "outputs": [],
   "source": []
  },
  {
   "cell_type": "code",
   "execution_count": null,
   "metadata": {},
   "outputs": [],
   "source": []
  },
  {
   "cell_type": "code",
   "execution_count": null,
   "metadata": {},
   "outputs": [],
   "source": []
  },
  {
   "cell_type": "code",
   "execution_count": null,
   "metadata": {},
   "outputs": [],
   "source": []
  },
  {
   "cell_type": "code",
   "execution_count": null,
   "metadata": {},
   "outputs": [],
   "source": []
  },
  {
   "cell_type": "code",
   "execution_count": null,
   "metadata": {},
   "outputs": [],
   "source": []
  },
  {
   "cell_type": "code",
   "execution_count": null,
   "metadata": {},
   "outputs": [],
   "source": []
  }
 ],
 "metadata": {
  "kernelspec": {
   "display_name": "base",
   "language": "python",
   "name": "python3"
  },
  "language_info": {
   "codemirror_mode": {
    "name": "ipython",
    "version": 3
   },
   "file_extension": ".py",
   "mimetype": "text/x-python",
   "name": "python",
   "nbconvert_exporter": "python",
   "pygments_lexer": "ipython3",
   "version": "3.9.12"
  },
  "orig_nbformat": 4,
  "vscode": {
   "interpreter": {
    "hash": "bde1ea82a499da0f3bee45254b930e19212c5f0c991811db65179495d8206895"
   }
  }
 },
 "nbformat": 4,
 "nbformat_minor": 2
}
