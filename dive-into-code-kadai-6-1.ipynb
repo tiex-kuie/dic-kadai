{
 "cells": [
  {
   "cell_type": "code",
   "execution_count": 1,
   "metadata": {},
   "outputs": [],
   "source": [
    "# import\n",
    "import numpy as np\n",
    "import matplotlib.pyplot as plt"
   ]
  },
  {
   "cell_type": "code",
   "execution_count": 2,
   "metadata": {},
   "outputs": [],
   "source": [
    "# K-meansスクラッチ\n",
    "class ScratchKMeans():\n",
    "    \"\"\"\n",
    "    K-means のスクラッチ実装\n",
    "\n",
    "    Parameters\n",
    "    ----------\n",
    "    n_clusters : int\n",
    "      クラスタ数\n",
    "    n_init : int\n",
    "      中心点の初期値を何回変えて計算するか\n",
    "    max_iter : int\n",
    "      1回の計算で最大何イテレーションするか\n",
    "    tol : float\n",
    "      イテレーションを終了する基準となる中心点と重心の許容誤差\n",
    "    verbose : bool\n",
    "      学習過程を出力する場合はTrue\n",
    "    \"\"\"\n",
    "    def __init__(self, n_clusters=2,n_init=20,max_iter=100,tol=1e-5,verbose=False):\n",
    "        # ハイパーパラメータを属性として記録\n",
    "        self.n_clusters = n_clusters\n",
    "        self.n_init = n_init\n",
    "        self.max_iter = max_iter\n",
    "        self.tol = tol\n",
    "        self.verbose = verbose\n",
    "        \n",
    "    def _remyu(self,X):\n",
    "        for j in range(self.n_clusters):\n",
    "            self.myu[j] = np.mean(X[X[:,-1]==j,:-1],axis=0)\n",
    "        \n",
    "    def _reclustering(self,X):\n",
    "        for i in range(len(X)):\n",
    "            \n",
    "            dist_m = 10**10\n",
    "            for j in range(self.n_clusters):\n",
    "                dist = np.sqrt(np.sum((X[i,:-1]-self.myu[j])**2))\n",
    "                \n",
    "                if dist < dist_m:\n",
    "                    dist_m = dist\n",
    "                    X[i,-1] = j\n",
    "                    \n",
    "    def _sse(self,X):\n",
    "        self.best_sse = 10**10\n",
    "        \n",
    "        sse = 0\n",
    "        for i in range(len(X)):\n",
    "            for j in range(self.n_clusters):\n",
    "                if j == X[i,-1]:\n",
    "                    sse += np.sum((X[i,:-1]-self.myu[j])**2)\n",
    "        \n",
    "        if self.best_sse > sse:\n",
    "            self.best_sse = sse\n",
    "            self.record_myu = self.myu\n",
    "            self.record_cluster = self.n_clusters\n",
    "    \n",
    "    def _silhouette(self,X):\n",
    "        return\n",
    "        \n",
    "    def fit(self, X):\n",
    "        \"\"\"\n",
    "        K-meansによりクラスタリングを計算\n",
    "        Parameters\n",
    "        ----------\n",
    "        X : 次の形のndarray, shape (n_samples, n_features)\n",
    "            訓練データの特徴量\n",
    "        \"\"\"\n",
    "        \n",
    "        for k in range(self.n_init):\n",
    "            \n",
    "            # クラスタ数に対する中心点μkの初期設定\n",
    "            self.myu = X[np.random.choice(len(X),size=self.n_clusters,replace=False)]\n",
    "        \n",
    "            # クラスタ値を設定する\n",
    "            cluster = np.zeros(len(X))\n",
    "            X_cluster = np.concatenate([X,cluster.reshape(-1,1)],axis=1)\n",
    "            \n",
    "            for ite in range(self.max_iter):\n",
    "                self._reclustering(X_cluster)\n",
    "                \n",
    "                old_myu = self.myu\n",
    "                self._remyu(X_cluster)\n",
    "            \n",
    "                # verboseをtrueに設定した場合の学習過程を出力\n",
    "                if self.verbose:\n",
    "                    fig = plt.subplots(figsize=(10,8))\n",
    "                    plt.rcParams[\"font.size\"] = 20\n",
    "                    \n",
    "                    for i in range(self.n_clusters):\n",
    "                        plt.scatter(X[X_cluster[:,-1]==i,0],X[X_cluster[:,-1]==i,1],s=80)\n",
    "                    plt.scatter(self.myu[:,0],self.myu[:,1],s=100)\n",
    "                    plt.show()\n",
    "                \n",
    "                # 繰り返し継続判定\n",
    "                if np.sum(old_myu - self.myu) < self.tol:\n",
    "                    self._sse(X_cluster)\n",
    "                    break\n",
    "                \n",
    "                self._sse(X_cluster)\n",
    "                \n",
    "            \n",
    "    def predict(self, X):\n",
    "        \"\"\"\n",
    "        入力されたデータがどのクラスタに属するかを計算\n",
    "        \"\"\"\n",
    "        y_pred = np.zeros(len(X))\n",
    "        \n",
    "        for i in range(len(X)):\n",
    "            dist_m = 10**10\n",
    "            for j in range(self.record_cluster):\n",
    "                dist = np.sqrt(np.sum((X[i]-self.record_myu[j])**2))\n",
    "                \n",
    "                if dist < dist_m:\n",
    "                    dist_m = dist\n",
    "                    y_pred[i] = j\n",
    "        return y_pred"
   ]
  },
  {
   "cell_type": "code",
   "execution_count": 3,
   "metadata": {},
   "outputs": [],
   "source": [
    "# K-meansスクラッチ（コードの可読性 < 計算速度）\n",
    "class ScratchKMeans_speed():\n",
    "    \"\"\"\n",
    "    K-meansのスクラッチ実装\n",
    "\n",
    "    Parameters\n",
    "    ----------\n",
    "    n_clusters : int\n",
    "      クラスタ数\n",
    "    n_init : int\n",
    "      中心点の初期値を何回変えて計算するか\n",
    "    max_iter : int\n",
    "      1回の計算で最大何イテレーションするか\n",
    "    tol : float\n",
    "      イテレーションを終了する基準となる中心点と重心の許容誤差\n",
    "    verbose : bool\n",
    "      学習過程を出力する場合はTrue\n",
    "    \"\"\"\n",
    "    def __init__(self, n_clusters=2,n_init=20,max_iter=100,tol=1e-5,verbose=False):\n",
    "        # ハイパーパラメータを属性として記録\n",
    "        self.n_clusters = n_clusters\n",
    "        self.n_init = n_init\n",
    "        self.max_iter = max_iter\n",
    "        self.tol = tol\n",
    "        self.verbose = verbose\n",
    "        \n",
    "    def _remyu(self,X):\n",
    "        for j in range(self.n_clusters):\n",
    "            self.myu[j] = np.mean(X[self.cluster==j],axis=0)\n",
    "        \n",
    "    def _reclustering(self,X):\n",
    "        diff = (X-self.myu[:,None]).reshape(-1,2)\n",
    "        self.dist = np.linalg.norm(diff,ord=2,axis=1).reshape(self.n_clusters,-1).T\n",
    "        \n",
    "        self.cluster = np.argmin(self.dist,axis=1)\n",
    "        \n",
    "    def _sse(self,X):\n",
    "        diff = (X-self.myu[:,None]).reshape(-1,2)\n",
    "        self.dist = np.linalg.norm(diff,ord=2,axis=1).reshape(self.n_clusters,-1).T\n",
    "        sse = np.sum(np.min(self.dist,axis=1)**2)\n",
    "        \n",
    "        self.best_sse = 10**10\n",
    "        if self.best_sse > sse:\n",
    "            self.best_sse = sse\n",
    "            self.record_myu = self.myu\n",
    "            self.record_cluster = self.n_clusters\n",
    "            self._silhouette(X) if self.n_clusters >=2 else _\n",
    "    \n",
    "    def _silhouette(self,X):\n",
    "        ab = np.zeros([len(X),2])\n",
    "        \n",
    "        self.silhouette_vals = np.zeros(len(X))\n",
    "        \n",
    "        for i,j in enumerate(X):\n",
    "            ab[i,0] = np.sum(np.linalg.norm(j-X[self.cluster == self.cluster[i]],ord=2,axis=1))/len(X[self.cluster == self.cluster[i]]-1)\n",
    "            ab[i,1] = np.mean(np.linalg.norm(j-X[self.cluster == self.dist[i].argsort()[1]],ord=2,axis=1))\n",
    "        \n",
    "            self.silhouette_vals[i] = (ab[i,1] - ab[i,0])/np.max(ab[i])\n",
    "        \n",
    "        self.silhouette_avg = np.mean(self.silhouette_vals)\n",
    "        self.y_km = self.cluster\n",
    "        self.cluster_labels = np.unique(self.cluster)\n",
    "        \n",
    "    def fit(self, X):\n",
    "        \"\"\"\n",
    "        K-meansによりクラスタリングを計算\n",
    "        Parameters\n",
    "        ----------\n",
    "        X : 次の形の ndarray、形状 (n_samples、n_features)\n",
    "            訓練データの特徴\n",
    "        \"\"\"\n",
    "        \n",
    "        for k in range(self.n_init):\n",
    "            \n",
    "            # クラスタ数に対する中心点μkの初期設定\n",
    "            self.myu = X[np.random.choice(len(X),size=self.n_clusters,replace=False)]\n",
    "            \n",
    "            for ite in range(self.max_iter):\n",
    "                self._reclustering(X)\n",
    "                \n",
    "                old_myu = self.myu\n",
    "                self._remyu(X)\n",
    "            \n",
    "                # verboseをtrueに設定した場合の学習過程を出力\n",
    "                if self.verbose:\n",
    "                    fig = plt.subplots(figsize=(10,8))\n",
    "                    plt.rcParams[\"font.size\"] = 20\n",
    "                    \n",
    "                    for i in range(self.n_clusters):\n",
    "                        plt.scatter(X[self.cluster==i,0],X[self.cluster==i,1],s=80)\n",
    "                    plt.scatter(self.myu[:,0],self.myu[:,1],s=100)\n",
    "                    plt.show()\n",
    "                \n",
    "                # 繰り返し継続判定\n",
    "                if np.sum(old_myu - self.myu) < self.tol:\n",
    "                    self._sse(X)\n",
    "                    break\n",
    "                \n",
    "                self._sse(X)\n",
    "                \n",
    "            \n",
    "    def predict(self, X):\n",
    "        \"\"\"\n",
    "        入力されたデータがどのクラスタに属するかを計算\n",
    "        \"\"\"\n",
    "        diff = (X-self.record_myu[:,None]).reshape(-1,2)\n",
    "        dist = np.linalg.norm(diff,ord=2,axis=1).reshape(self.record_cluster,-1).T\n",
    "        return np.argmin(dist,axis=1)"
   ]
  },
  {
   "cell_type": "code",
   "execution_count": null,
   "metadata": {},
   "outputs": [],
   "source": []
  },
  {
   "cell_type": "code",
   "execution_count": 4,
   "metadata": {},
   "outputs": [],
   "source": [
    "# シンプルデータセット3\n",
    "from sklearn.datasets import make_blobs\n",
    "\n",
    "X, _ = make_blobs(n_samples=100,\n",
    "                  n_features=2,\n",
    "                  centers=4,\n",
    "                  cluster_std=0.5,\n",
    "                  shuffle=True,\n",
    "                  random_state=0)"
   ]
  },
  {
   "cell_type": "code",
   "execution_count": 5,
   "metadata": {},
   "outputs": [
    {
     "data": {
      "text/plain": [
       "(100, 2)"
      ]
     },
     "execution_count": 5,
     "metadata": {},
     "output_type": "execute_result"
    }
   ],
   "source": [
    "X.shape"
   ]
  },
  {
   "cell_type": "code",
   "execution_count": 6,
   "metadata": {},
   "outputs": [
    {
     "data": {
      "image/png": "[encoded data removed]",
      "text/plain": [
       "<Figure size 864x576 with 1 Axes>"
      ]
     },
     "metadata": {
      "needs_background": "light"
     },
     "output_type": "display_data"
    }
   ],
   "source": [
    "# データ分布の可視化\n",
    "fig = plt.subplots(figsize=(12,8))\n",
    "plt.rcParams[\"font.size\"] = 20\n",
    "plt.scatter(X[:,0],X[:,1],s=80);"
   ]
  },
  {
   "cell_type": "code",
   "execution_count": null,
   "metadata": {},
   "outputs": [],
   "source": []
  },
  {
   "cell_type": "code",
   "execution_count": 7,
   "metadata": {},
   "outputs": [],
   "source": [
    "# 問題1:中心点の初期値を決める"
   ]
  },
  {
   "cell_type": "code",
   "execution_count": 8,
   "metadata": {},
   "outputs": [
    {
     "name": "stdout",
     "output_type": "stream",
     "text": [
      "(2, 2)\n",
      "[[-1.91186205  3.18750686]\n",
      " [-1.497272    8.80022604]]\n"
     ]
    }
   ],
   "source": [
    "# k をランダムに選択する.\n",
    "k = 2\n",
    "myu = X[np.random.choice(len(X),size=k,replace=False)]\n",
    "print(myu.shape)\n",
    "print(myu)"
   ]
  },
  {
   "cell_type": "code",
   "execution_count": 9,
   "metadata": {},
   "outputs": [
    {
     "data": {
      "image/png": "[encoded data removed]",
      "text/plain": [
       "<Figure size 864x576 with 1 Axes>"
      ]
     },
     "metadata": {
      "needs_background": "light"
     },
     "output_type": "display_data"
    }
   ],
   "source": [
    "# データ分布の可視化\n",
    "fig = plt.subplots(figsize=(12,8))\n",
    "plt.rcParams[\"font.size\"] = 20\n",
    "plt.scatter(X[:,0],X[:,1],s=80)\n",
    "plt.scatter(myu[:,0],myu[:,1],s=80);"
   ]
  },
  {
   "cell_type": "code",
   "execution_count": null,
   "metadata": {},
   "outputs": [],
   "source": []
  },
  {
   "cell_type": "code",
   "execution_count": 10,
   "metadata": {},
   "outputs": [],
   "source": [
    "# 問題2:SSEを求める関数の作成"
   ]
  },
  {
   "cell_type": "code",
   "execution_count": 11,
   "metadata": {},
   "outputs": [
    {
     "name": "stdout",
     "output_type": "stream",
     "text": [
      "(10, 3)\n",
      "[[ 0.72086751  3.71347124  0.        ]\n",
      " [-1.89468423  7.96898545  1.        ]\n",
      " [ 1.35678894  4.36462484  1.        ]\n",
      " [ 1.05374379  4.49286859  0.        ]\n",
      " [ 1.59141542  4.90497725  1.        ]\n",
      " [ 0.78260667  4.15263595  1.        ]\n",
      " [-1.95751686  3.87291474  1.        ]\n",
      " [-0.77354537  7.87923564  1.        ]\n",
      " [ 0.12313498  5.27917503  1.        ]\n",
      " [-1.43284669  7.71577043  1.        ]]\n"
     ]
    }
   ],
   "source": [
    "num =10\n",
    "\n",
    "# 検証用のラベルを追加する\n",
    "label = np.random.randint(0,k,len(X[0:num]))\n",
    "X_test = np.concatenate([X[0:num],label.reshape(-1,1)],axis=1)\n",
    "print(X_test.shape)\n",
    "print(X_test)"
   ]
  },
  {
   "cell_type": "code",
   "execution_count": 12,
   "metadata": {},
   "outputs": [
    {
     "data": {
      "text/plain": [
       "2.684753892732074"
      ]
     },
     "execution_count": 12,
     "metadata": {},
     "output_type": "execute_result"
    }
   ],
   "source": [
    "# ユークリッド距離の計算\n",
    "np.sqrt(np.sum((X[0]-myu[0])**2))"
   ]
  },
  {
   "cell_type": "code",
   "execution_count": 13,
   "metadata": {},
   "outputs": [
    {
     "data": {
      "text/plain": [
       "2.684753892732074"
      ]
     },
     "execution_count": 13,
     "metadata": {},
     "output_type": "execute_result"
    }
   ],
   "source": [
    "# L2ノルムで計算\n",
    "np.linalg.norm(X[0]-myu[0],ord=2)"
   ]
  },
  {
   "cell_type": "code",
   "execution_count": 14,
   "metadata": {},
   "outputs": [
    {
     "name": "stdout",
     "output_type": "stream",
     "text": [
      "2.684753892732074\n",
      "0.9213562841517413\n",
      "5.27448783508026\n",
      "3.2401832133395363\n",
      "4.971212439016166\n"
     ]
    }
   ],
   "source": [
    "# SSE 小テスト\n",
    "for i in range(5):\n",
    "    for j in range(len(myu)):\n",
    "        if j == X_test[i,2]:\n",
    "            sse = np.sqrt(np.sum((X_test[i,0:2]-myu[j])**2))\n",
    "    print(sse)"
   ]
  },
  {
   "cell_type": "code",
   "execution_count": 15,
   "metadata": {},
   "outputs": [
    {
     "name": "stdout",
     "output_type": "stream",
     "text": [
      "2.684753892732074\n",
      "0.9213562841517413\n",
      "5.27448783508026\n",
      "3.2401832133395363\n",
      "4.971212439016166\n"
     ]
    }
   ],
   "source": [
    "# L2ノルムで計算\n",
    "for i in range(5):\n",
    "    for j in range(len(myu)):\n",
    "        if j == X_test[i,2]:\n",
    "            sse = np.linalg.norm(X_test[i,0:2]-myu[j])\n",
    "    print(sse)"
   ]
  },
  {
   "cell_type": "code",
   "execution_count": null,
   "metadata": {},
   "outputs": [],
   "source": []
  },
  {
   "cell_type": "code",
   "execution_count": 16,
   "metadata": {},
   "outputs": [],
   "source": [
    "# 問題3:クラスタへの割り当て"
   ]
  },
  {
   "cell_type": "code",
   "execution_count": 17,
   "metadata": {},
   "outputs": [
    {
     "name": "stdout",
     "output_type": "stream",
     "text": [
      "2.684753892732074\n",
      "5.549343866924436\n",
      "New_Label: 0.0\n",
      "4.781509449543119\n",
      "0.9213562841517413\n",
      "New_Label: 1.0\n",
      "3.474145368356347\n",
      "5.27448783508026\n",
      "New_Label: 0.0\n",
      "3.2401832133395363\n",
      "5.006097263952339\n",
      "New_Label: 0.0\n",
      "3.9016224297740223\n",
      "4.971212439016166\n",
      "New_Label: 0.0\n"
     ]
    }
   ],
   "source": [
    "# 再クラスタリング 小テスト\n",
    "for i in range(5):\n",
    "    dist_m = 10**10\n",
    "    for j in range(len(myu)):\n",
    "        dist = np.sqrt(np.sum((X_test[i,:-1]-myu[j])**2))\n",
    "        print(dist)\n",
    "        if dist < dist_m:\n",
    "            dist_m = dist\n",
    "            X_test[i,-1] = j\n",
    "        \n",
    "    print('New_Label:',X_test[i,2])"
   ]
  },
  {
   "cell_type": "code",
   "execution_count": 18,
   "metadata": {},
   "outputs": [
    {
     "name": "stdout",
     "output_type": "stream",
     "text": [
      "(100, 2)\n",
      "[[2.68475389 5.54934387]\n",
      " [4.78150945 0.92135628]\n",
      " [3.47414537 5.27448784]\n",
      " [3.24018321 5.00609726]\n",
      " [3.90162243 4.97121244]]\n"
     ]
    }
   ],
   "source": [
    "# 再クラスタリング 小テスト\n",
    "dist_nd = np.zeros([len(X),k])\n",
    "print(dist_nd.shape)\n",
    "\n",
    "for i in range(len(X)):\n",
    "    for j in range(k):\n",
    "        dist_nd[i,j] = np.linalg.norm(X[i]-myu[j])\n",
    "print(dist_nd[0:5])"
   ]
  },
  {
   "cell_type": "code",
   "execution_count": 19,
   "metadata": {},
   "outputs": [],
   "source": [
    "# ndarrayの違い - 確認\n",
    "show = False\n",
    "if show:\n",
    "    for i in range(len(X)):\n",
    "        for j in range(k):\n",
    "            print(X[i]-myu[j])"
   ]
  },
  {
   "cell_type": "code",
   "execution_count": 20,
   "metadata": {},
   "outputs": [
    {
     "data": {
      "text/plain": [
       "array([[2.68475389, 5.54934387],\n",
       "       [4.78150945, 0.92135628],\n",
       "       [3.47414537, 5.27448784],\n",
       "       [3.24018321, 5.00609726],\n",
       "       [3.90162243, 4.97121244]])"
      ]
     },
     "execution_count": 20,
     "metadata": {},
     "output_type": "execute_result"
    }
   ],
   "source": [
    "# forがなければいけないのか\n",
    "norm = (X-myu[:,None]).reshape(-1,2)\n",
    "#tmp = norm.reshape(-1,2)\n",
    "\n",
    "# reshape(n_clusters,-1).T\n",
    "cal = np.linalg.norm(norm,ord=2,axis=1).reshape(2,-1).T\n",
    "cal[0:5]"
   ]
  },
  {
   "cell_type": "code",
   "execution_count": 21,
   "metadata": {},
   "outputs": [
    {
     "data": {
      "text/plain": [
       "array([0, 1, 0, 0, 0, 0, 0, 1, 0, 1, 1, 1, 1, 1, 1, 0, 0, 0, 0, 0, 0, 1,\n",
       "       0, 0, 0, 0, 0, 0, 0, 0, 0, 1, 0, 0, 0, 0, 1, 0, 1, 0, 0, 0, 1, 0,\n",
       "       0, 1, 0, 0, 0, 0, 0, 0, 0, 0, 0, 1, 1, 0, 0, 1, 1, 0, 0, 0, 0, 1,\n",
       "       0, 0, 0, 0, 1, 0, 0, 1, 0, 0, 0, 0, 0, 0, 0, 1, 0, 0, 0, 0, 0, 0,\n",
       "       0, 0, 0, 0, 0, 0, 0, 1, 1, 0, 1, 0], dtype=int64)"
      ]
     },
     "execution_count": 21,
     "metadata": {},
     "output_type": "execute_result"
    }
   ],
   "source": [
    "cl = np.argmin(cal,axis=1)\n",
    "cl"
   ]
  },
  {
   "cell_type": "code",
   "execution_count": null,
   "metadata": {},
   "outputs": [],
   "source": []
  },
  {
   "cell_type": "code",
   "execution_count": 22,
   "metadata": {},
   "outputs": [],
   "source": [
    "# 問題4:中心点の移動"
   ]
  },
  {
   "cell_type": "code",
   "execution_count": 23,
   "metadata": {},
   "outputs": [
    {
     "data": {
      "text/plain": [
       "array([1.18070392, 4.36898548])"
      ]
     },
     "execution_count": 23,
     "metadata": {},
     "output_type": "execute_result"
    }
   ],
   "source": [
    "# 中心点μkを移動させる 小テスト\n",
    "np.mean(X_test[X_test[:,2]==0,:-1],axis=0)"
   ]
  },
  {
   "cell_type": "code",
   "execution_count": 24,
   "metadata": {},
   "outputs": [
    {
     "data": {
      "text/plain": [
       "array([[ 0.72086751,  3.71347124,  0.        ],\n",
       "       [-1.89468423,  7.96898545,  1.        ],\n",
       "       [ 1.35678894,  4.36462484,  0.        ],\n",
       "       [ 1.05374379,  4.49286859,  0.        ],\n",
       "       [ 1.59141542,  4.90497725,  0.        ],\n",
       "       [ 0.78260667,  4.15263595,  1.        ],\n",
       "       [-1.95751686,  3.87291474,  1.        ],\n",
       "       [-0.77354537,  7.87923564,  1.        ],\n",
       "       [ 0.12313498,  5.27917503,  1.        ],\n",
       "       [-1.43284669,  7.71577043,  1.        ]])"
      ]
     },
     "execution_count": 24,
     "metadata": {},
     "output_type": "execute_result"
    }
   ],
   "source": [
    "X_test"
   ]
  },
  {
   "cell_type": "code",
   "execution_count": 25,
   "metadata": {},
   "outputs": [
    {
     "data": {
      "image/png": "[encoded data removed]",
      "text/plain": [
       "<Figure size 864x576 with 1 Axes>"
      ]
     },
     "metadata": {
      "needs_background": "light"
     },
     "output_type": "display_data"
    }
   ],
   "source": [
    "# データ分布の可視化\n",
    "fig = plt.subplots(figsize=(12,8))\n",
    "plt.rcParams[\"font.size\"] = 20\n",
    "plt.scatter(X_test[X_test[:,2]==0,0],X_test[X_test[:,2]==0,1],s=80)\n",
    "plt.scatter(X_test[X_test[:,2]==1,0],X_test[X_test[:,2]==1,1],s=80)\n",
    "plt.scatter(myu[:,0],myu[:,1],s=80);"
   ]
  },
  {
   "cell_type": "code",
   "execution_count": null,
   "metadata": {},
   "outputs": [],
   "source": []
  },
  {
   "cell_type": "code",
   "execution_count": 26,
   "metadata": {},
   "outputs": [],
   "source": [
    "# 問題5:繰り返し"
   ]
  },
  {
   "cell_type": "code",
   "execution_count": 27,
   "metadata": {},
   "outputs": [
    {
     "name": "stdout",
     "output_type": "stream",
     "text": [
      "(80, 2)\n",
      "(20, 2)\n"
     ]
    }
   ],
   "source": [
    "# トレーニングデータとバリデーションデータに分割\n",
    "from sklearn.model_selection import train_test_split\n",
    "X_train, X_valid = \\\n",
    "train_test_split(X,train_size=0.8,random_state=None)\n",
    "\n",
    "print(X_train.shape)\n",
    "print(X_valid.shape)"
   ]
  },
  {
   "cell_type": "code",
   "execution_count": null,
   "metadata": {},
   "outputs": [],
   "source": []
  },
  {
   "cell_type": "code",
   "execution_count": 28,
   "metadata": {},
   "outputs": [],
   "source": [
    "# 問題6:異なる初期値で計算"
   ]
  },
  {
   "cell_type": "code",
   "execution_count": 29,
   "metadata": {},
   "outputs": [],
   "source": [
    "clf = ScratchKMeans(n_clusters=4,n_init=50,max_iter=500,tol=1e-5,verbose=False)\n",
    "clf.fit(X_train)"
   ]
  },
  {
   "cell_type": "code",
   "execution_count": null,
   "metadata": {},
   "outputs": [],
   "source": []
  },
  {
   "cell_type": "code",
   "execution_count": 30,
   "metadata": {},
   "outputs": [],
   "source": [
    "# 問題7:推定"
   ]
  },
  {
   "cell_type": "code",
   "execution_count": 31,
   "metadata": {},
   "outputs": [
    {
     "name": "stdout",
     "output_type": "stream",
     "text": [
      "[0. 3. 0. 2. 0. 3. 2. 0. 2. 0. 2. 2. 3. 2. 3. 3. 0. 3. 0. 0.]\n"
     ]
    }
   ],
   "source": [
    "# 検証データを推定するためのスクラッチクラスタリング\n",
    "pred = clf.predict(X_valid)\n",
    "print(pred)"
   ]
  },
  {
   "cell_type": "code",
   "execution_count": 32,
   "metadata": {},
   "outputs": [
    {
     "data": {
      "image/png": "[encoded data removed]",
      "text/plain": [
       "<Figure size 720x576 with 1 Axes>"
      ]
     },
     "metadata": {
      "needs_background": "light"
     },
     "output_type": "display_data"
    },
    {
     "data": {
      "image/png": "[encoded data removed]",
      "text/plain": [
       "<Figure size 720x576 with 1 Axes>"
      ]
     },
     "metadata": {
      "needs_background": "light"
     },
     "output_type": "display_data"
    },
    {
     "data": {
      "image/png": "[encoded data removed]",
      "text/plain": [
       "<Figure size 720x576 with 1 Axes>"
      ]
     },
     "metadata": {
      "needs_background": "light"
     },
     "output_type": "display_data"
    },
    {
     "data": {
      "image/png": "[encoded data removed]",
      "text/plain": [
       "<Figure size 720x576 with 1 Axes>"
      ]
     },
     "metadata": {
      "needs_background": "light"
     },
     "output_type": "display_data"
    },
    {
     "data": {
      "image/png": "[encoded data removed]",
      "text/plain": [
       "<Figure size 720x576 with 1 Axes>"
      ]
     },
     "metadata": {
      "needs_background": "light"
     },
     "output_type": "display_data"
    }
   ],
   "source": [
    "clf2 = ScratchKMeans_speed(n_clusters=4,n_init=5,max_iter=1000,tol=1e-5,verbose=True)\n",
    "clf2.fit(X_train)"
   ]
  },
  {
   "cell_type": "code",
   "execution_count": 33,
   "metadata": {},
   "outputs": [
    {
     "name": "stdout",
     "output_type": "stream",
     "text": [
      "[2 3 1 0 1 3 0 1 0 1 0 0 3 0 3 3 2 3 1 1]\n"
     ]
    }
   ],
   "source": [
    "# スクラッチ クラスタリング2による検証データの推定\n",
    "pred = clf2.predict(X_valid)\n",
    "print(pred)"
   ]
  },
  {
   "cell_type": "code",
   "execution_count": 34,
   "metadata": {},
   "outputs": [
    {
     "name": "stdout",
     "output_type": "stream",
     "text": [
      "321 ns ± 8.48 ns per loop (mean ± std. dev. of 7 runs, 1,000,000 loops each)\n"
     ]
    }
   ],
   "source": [
    "%%timeit\n",
    "clf = ScratchKMeans(n_clusters=4,n_init=50,max_iter=500,tol=1e-5,verbose=False)"
   ]
  },
  {
   "cell_type": "code",
   "execution_count": 35,
   "metadata": {},
   "outputs": [
    {
     "name": "stdout",
     "output_type": "stream",
     "text": [
      "309 ns ± 5.38 ns per loop (mean ± std. dev. of 7 runs, 1,000,000 loops each)\n"
     ]
    }
   ],
   "source": [
    "%%timeit\n",
    "clf2 = ScratchKMeans_speed(n_clusters=4,n_init=50,max_iter=500,tol=1e-5,verbose=False)"
   ]
  },
  {
   "cell_type": "code",
   "execution_count": null,
   "metadata": {},
   "outputs": [],
   "source": []
  },
  {
   "cell_type": "code",
   "execution_count": 36,
   "metadata": {},
   "outputs": [],
   "source": [
    "# 問題8:エルボー法の実装"
   ]
  },
  {
   "cell_type": "code",
   "execution_count": 37,
   "metadata": {},
   "outputs": [
    {
     "data": {
      "image/png": "[encoded data removed]",
      "text/plain": [
       "<Figure size 864x576 with 1 Axes>"
      ]
     },
     "metadata": {
      "needs_background": "light"
     },
     "output_type": "display_data"
    }
   ],
   "source": [
    "# エルボー法によるモデル評価（可視化）\n",
    "elbow = {}\n",
    "for k in range(1,8):\n",
    "    model = ScratchKMeans_speed(n_clusters=k,n_init=100,max_iter=1000,tol=1e-5,verbose=False)\n",
    "    model.fit(X)\n",
    "    elbow[k] = model.best_sse\n",
    "\n",
    "fig = plt.subplots(figsize=(12,8))\n",
    "plt.rcParams[\"font.size\"] = 20\n",
    "plt.plot(list(elbow.keys()),list(elbow.values()),'rs--');"
   ]
  },
  {
   "cell_type": "code",
   "execution_count": null,
   "metadata": {},
   "outputs": [],
   "source": []
  },
  {
   "cell_type": "code",
   "execution_count": 38,
   "metadata": {},
   "outputs": [],
   "source": [
    "# 問題9:(アドバンス課題)シルエット図"
   ]
  },
  {
   "cell_type": "code",
   "execution_count": 39,
   "metadata": {},
   "outputs": [
    {
     "name": "stdout",
     "output_type": "stream",
     "text": [
      "[[-1.91186205  3.18750686]\n",
      " [-1.497272    8.80022604]]\n",
      "1\n"
     ]
    }
   ],
   "source": [
    "# 並び替え、インデックス取得\n",
    "print(myu)\n",
    "print(myu[1].argsort()[1])"
   ]
  },
  {
   "cell_type": "code",
   "execution_count": 40,
   "metadata": {},
   "outputs": [
    {
     "data": {
      "image/png": "[encoded data removed]",
      "text/plain": [
       "<Figure size 432x288 with 1 Axes>"
      ]
     },
     "metadata": {
      "needs_background": "light"
     },
     "output_type": "display_data"
    },
    {
     "data": {
      "image/png": "[encoded data removed]",
      "text/plain": [
       "<Figure size 432x288 with 1 Axes>"
      ]
     },
     "metadata": {
      "needs_background": "light"
     },
     "output_type": "display_data"
    },
    {
     "data": {
      "image/png": "[encoded data removed]",
      "text/plain": [
       "<Figure size 432x288 with 1 Axes>"
      ]
     },
     "metadata": {
      "needs_background": "light"
     },
     "output_type": "display_data"
    },
    {
     "data": {
      "image/png": "[encoded data removed]",
      "text/plain": [
       "<Figure size 432x288 with 1 Axes>"
      ]
     },
     "metadata": {
      "needs_background": "light"
     },
     "output_type": "display_data"
    },
    {
     "data": {
      "image/png": "[encoded data removed]",
      "text/plain": [
       "<Figure size 432x288 with 1 Axes>"
      ]
     },
     "metadata": {
      "needs_background": "light"
     },
     "output_type": "display_data"
    },
    {
     "data": {
      "image/png": "[encoded data removed]",
      "text/plain": [
       "<Figure size 432x288 with 1 Axes>"
      ]
     },
     "metadata": {
      "needs_background": "light"
     },
     "output_type": "display_data"
    }
   ],
   "source": [
    "# シルエット図を可視化する\n",
    "from matplotlib import cm\n",
    "\n",
    "plt.rcParams[\"font.size\"] = 20\n",
    "\n",
    "for k in range(2,8):\n",
    "    model = ScratchKMeans_speed(n_clusters=k,n_init=100,max_iter=1000,tol=1e-5)\n",
    "    model.fit(X)\n",
    "\n",
    "    y_ax_lower, y_ax_upper = 0, 0\n",
    "    yticks = []\n",
    "\n",
    "    for i, c in enumerate(model.cluster_labels):\n",
    "        c_silhouette_vals = model.silhouette_vals[model.y_km == c]\n",
    "        c_silhouette_vals.sort()\n",
    "        y_ax_upper += len(c_silhouette_vals)\n",
    "        color = cm.jet(i / model.n_clusters)\n",
    "        plt.barh(range(y_ax_lower, y_ax_upper), c_silhouette_vals, height=1.0, edgecolor='none', color=color)\n",
    "        yticks.append((y_ax_lower + y_ax_upper) / 2)\n",
    "        y_ax_lower += len(c_silhouette_vals)\n",
    "    \n",
    "    plt.axvline(model.silhouette_avg, color=\"red\", linestyle=\"--\")\n",
    "    plt.yticks(yticks, model.cluster_labels + 1)\n",
    "    plt.ylabel('Cluster')\n",
    "    plt.xlabel('Silhouette coefficient')\n",
    "    plt.xlim(-1,1)\n",
    "    plt.show()"
   ]
  },
  {
   "cell_type": "code",
   "execution_count": null,
   "metadata": {},
   "outputs": [],
   "source": []
  },
  {
   "cell_type": "code",
   "execution_count": 41,
   "metadata": {},
   "outputs": [],
   "source": [
    "# クラスター解析ライブラリのインポート\n",
    "import pandas as pd\n",
    "import seaborn as sns\n",
    "from sklearn.decomposition import PCA\n",
    "import warnings"
   ]
  },
  {
   "cell_type": "code",
   "execution_count": 42,
   "metadata": {},
   "outputs": [],
   "source": [
    "warnings.simplefilter('ignore')"
   ]
  },
  {
   "cell_type": "code",
   "execution_count": 49,
   "metadata": {},
   "outputs": [
    {
     "ename": "ModuleNotFoundError",
     "evalue": "No module named 'google.colab'",
     "output_type": "error",
     "traceback": [
      "\u001b[1;31m---------------------------------------------------------------------------\u001b[0m",
      "\u001b[1;31mModuleNotFoundError\u001b[0m                       Traceback (most recent call last)",
      "\u001b[1;32mc:\\Users\\tixt1\\Desktop\\機械学習特別研修\\dive-into-code-kadai-6-1.ipynb Cell 54\u001b[0m in \u001b[0;36m<cell line: 1>\u001b[1;34m()\u001b[0m\n\u001b[1;32m----> <a href='vscode-notebook-cell:/c%3A/Users/tixt1/Desktop/%E6%A9%9F%E6%A2%B0%E5%AD%A6%E7%BF%92%E7%89%B9%E5%88%A5%E7%A0%94%E4%BF%AE/dive-into-code-kadai-6-1.ipynb#Y210sZmlsZQ%3D%3D?line=0'>1</a>\u001b[0m \u001b[39mfrom\u001b[39;00m \u001b[39mgoogle\u001b[39;00m\u001b[39m.\u001b[39;00m\u001b[39mcolab\u001b[39;00m \u001b[39mimport\u001b[39;00m drive\n\u001b[0;32m      <a href='vscode-notebook-cell:/c%3A/Users/tixt1/Desktop/%E6%A9%9F%E6%A2%B0%E5%AD%A6%E7%BF%92%E7%89%B9%E5%88%A5%E7%A0%94%E4%BF%AE/dive-into-code-kadai-6-1.ipynb#Y210sZmlsZQ%3D%3D?line=1'>2</a>\u001b[0m drive\u001b[39m.\u001b[39mmount(\u001b[39m'\u001b[39m\u001b[39m/content/drive\u001b[39m\u001b[39m'\u001b[39m)\n\u001b[0;32m      <a href='vscode-notebook-cell:/c%3A/Users/tixt1/Desktop/%E6%A9%9F%E6%A2%B0%E5%AD%A6%E7%BF%92%E7%89%B9%E5%88%A5%E7%A0%94%E4%BF%AE/dive-into-code-kadai-6-1.ipynb#Y210sZmlsZQ%3D%3D?line=2'>3</a>\u001b[0m get_ipython()\u001b[39m.\u001b[39mrun_line_magic(\u001b[39m'\u001b[39m\u001b[39mcd\u001b[39m\u001b[39m'\u001b[39m, \u001b[39m'\u001b[39m\u001b[39m/content/drive/My Drive/Colab Notebooks/\u001b[39m\u001b[39m'\u001b[39m)\n",
      "\u001b[1;31mModuleNotFoundError\u001b[0m: No module named 'google.colab'"
     ]
    }
   ],
   "source": [
    "from google.colab import drive\n",
    "drive.mount('/content/drive')\n",
    "%cd /content/drive/My Drive/Colab Notebooks/\n",
    "data = pd.DataFrame(pd.read_csv('./Wholesale customers data.csv'))"
   ]
  },
  {
   "cell_type": "code",
   "execution_count": 47,
   "metadata": {},
   "outputs": [
    {
     "ename": "NameError",
     "evalue": "name 'data' is not defined",
     "output_type": "error",
     "traceback": [
      "\u001b[1;31m---------------------------------------------------------------------------\u001b[0m",
      "\u001b[1;31mNameError\u001b[0m                                 Traceback (most recent call last)",
      "\u001b[1;32mc:\\Users\\tixt1\\Desktop\\機械学習特別研修\\dive-into-code-kadai-6-1.ipynb Cell 55\u001b[0m in \u001b[0;36m<cell line: 1>\u001b[1;34m()\u001b[0m\n\u001b[1;32m----> <a href='vscode-notebook-cell:/c%3A/Users/tixt1/Desktop/%E6%A9%9F%E6%A2%B0%E5%AD%A6%E7%BF%92%E7%89%B9%E5%88%A5%E7%A0%94%E4%BF%AE/dive-into-code-kadai-6-1.ipynb#Y211sZmlsZQ%3D%3D?line=0'>1</a>\u001b[0m data\u001b[39m.\u001b[39mcolumns\n",
      "\u001b[1;31mNameError\u001b[0m: name 'data' is not defined"
     ]
    }
   ],
   "source": [
    "data.columns"
   ]
  },
  {
   "cell_type": "code",
   "execution_count": null,
   "metadata": {},
   "outputs": [],
   "source": [
    "# info\n",
    "data.info()"
   ]
  },
  {
   "cell_type": "code",
   "execution_count": null,
   "metadata": {},
   "outputs": [],
   "source": [
    "# describe\n",
    "data.describe()"
   ]
  },
  {
   "cell_type": "code",
   "execution_count": null,
   "metadata": {},
   "outputs": [],
   "source": [
    "# ペアプロット\n",
    "sns.pairplot(data,hue='Channel');"
   ]
  },
  {
   "cell_type": "code",
   "execution_count": null,
   "metadata": {},
   "outputs": [],
   "source": [
    "data.groupby(['Channel','Region']).count()"
   ]
  },
  {
   "cell_type": "code",
   "execution_count": null,
   "metadata": {},
   "outputs": [],
   "source": [
    "data.groupby(['Region']).mean()"
   ]
  },
  {
   "cell_type": "code",
   "execution_count": null,
   "metadata": {},
   "outputs": [],
   "source": [
    "data.groupby(['Channel']).mean()"
   ]
  },
  {
   "cell_type": "code",
   "execution_count": null,
   "metadata": {},
   "outputs": [],
   "source": []
  },
  {
   "cell_type": "code",
   "execution_count": null,
   "metadata": {},
   "outputs": [],
   "source": [
    "# 問題10:クラスタ数kの選択"
   ]
  },
  {
   "cell_type": "code",
   "execution_count": null,
   "metadata": {},
   "outputs": [],
   "source": [
    "# チャンネルとリージョンの削除\n",
    "data_c = data.iloc[:,2:7]\n",
    "data_c"
   ]
  },
  {
   "cell_type": "code",
   "execution_count": null,
   "metadata": {},
   "outputs": [],
   "source": [
    "# 対数変換\n",
    "data_log = data_c.apply(np.log1p)"
   ]
  },
  {
   "cell_type": "code",
   "execution_count": null,
   "metadata": {},
   "outputs": [],
   "source": [
    "# ペアプロット\n",
    "sns.pairplot(data_log);"
   ]
  },
  {
   "cell_type": "code",
   "execution_count": null,
   "metadata": {},
   "outputs": [],
   "source": [
    "# 分散説明率\n",
    "n = 4\n",
    "\n",
    "pca = PCA(n_components=n)\n",
    "pca = pca.fit(data_log)\n",
    "var_exp = pca.explained_variance_ratio_\n",
    "cum_var_exp = np.cumsum(var_exp)\n",
    "print(cum_var_exp)\n",
    "\n",
    "fig = plt.subplots(figsize=(12,8))\n",
    "plt.bar(range(1,n+1), var_exp, alpha=0.5, align='center', label='individual explained variance')\n",
    "plt.step(range(1,n+1), cum_var_exp, where='mid', label='cumulative expalined variance')\n",
    "plt.ylabel('Explained variance ratio')\n",
    "plt.xlabel('Principal components')\n",
    "plt.hlines(0.7, 0, n+1,  \"blue\", linestyles='dashed')\n",
    "plt.legend(loc='best')\n",
    "plt.grid()\n",
    "plt.show()"
   ]
  },
  {
   "cell_type": "code",
   "execution_count": null,
   "metadata": {},
   "outputs": [],
   "source": [
    "# PCA分析（可視化のための次元削減）\n",
    "pca = PCA(n_components=2)\n",
    "pca = pca.fit(data_log)\n",
    "data_pca = pca.transform(data_log)\n",
    "plt.plot(data_pca[:,0],data_pca[:,1],'bo');"
   ]
  },
  {
   "cell_type": "code",
   "execution_count": null,
   "metadata": {},
   "outputs": [],
   "source": [
    "# スクラッチK-meansによるクラスタリング\n",
    "\n",
    "# エルボー法によるモデル評価（可視化）\n",
    "elbow = {}\n",
    "for k in range(1,5):\n",
    "    model = ScratchKMeans_speed(n_clusters=k,n_init=100,max_iter=1000,tol=1e-5,verbose=False)\n",
    "    model.fit(data_pca)\n",
    "    elbow[k] = model.best_sse\n",
    "\n",
    "fig = plt.subplots(figsize=(12,8))\n",
    "plt.rcParams[\"font.size\"] = 20\n",
    "plt.plot(elbow.keys(),elbow.values(),'rs--');"
   ]
  },
  {
   "cell_type": "code",
   "execution_count": null,
   "metadata": {},
   "outputs": [],
   "source": [
    "# シルエット図を可視化する\n",
    "\n",
    "plt.rcParams[\"font.size\"] = 20\n",
    "\n",
    "for k in range(2,5):\n",
    "    model = ScratchKMeans_speed(n_clusters=k,n_init=100,max_iter=1000,tol=1e-5)\n",
    "    model.fit(data_pca)\n",
    "\n",
    "    y_ax_lower, y_ax_upper = 0, 0\n",
    "    yticks = []\n",
    "\n",
    "    for i, c in enumerate(model.cluster_labels):\n",
    "        c_silhouette_vals = model.silhouette_vals[model.y_km == c]\n",
    "        c_silhouette_vals.sort()\n",
    "        y_ax_upper += len(c_silhouette_vals)\n",
    "        color = cm.jet(i / model.n_clusters)\n",
    "        plt.barh(range(y_ax_lower, y_ax_upper), c_silhouette_vals, height=1.0, edgecolor='none', color=color)\n",
    "        yticks.append((y_ax_lower + y_ax_upper) / 2)\n",
    "        y_ax_lower += len(c_silhouette_vals)\n",
    "    \n",
    "    plt.axvline(model.silhouette_avg, color=\"red\", linestyle=\"--\")\n",
    "    plt.yticks(yticks, model.cluster_labels + 1)\n",
    "    plt.ylabel('Cluster')\n",
    "    plt.xlabel('Silhouette coefficient')\n",
    "    plt.xlim(-1,1)\n",
    "    plt.show()"
   ]
  },
  {
   "cell_type": "code",
   "execution_count": null,
   "metadata": {},
   "outputs": [],
   "source": [
    "# k=3 clustering\n",
    "model = ScratchKMeans_speed(n_clusters=3,n_init=100,max_iter=1000,tol=1e-5)\n",
    "model.fit(data_pca)"
   ]
  },
  {
   "cell_type": "code",
   "execution_count": null,
   "metadata": {},
   "outputs": [],
   "source": [
    "# Label values after clustering\n",
    "cluster = model.y_km\n",
    "\n",
    "# Join to data\n",
    "data['Cluster'] = cluster"
   ]
  },
  {
   "cell_type": "code",
   "execution_count": null,
   "metadata": {},
   "outputs": [],
   "source": [
    "data"
   ]
  },
  {
   "cell_type": "code",
   "execution_count": null,
   "metadata": {},
   "outputs": [],
   "source": [
    "data_pca_label_ = np.concatenate([data_pca,cluster.reshape(-1,1)],axis=1)\n",
    "data_pca_label_"
   ]
  },
  {
   "cell_type": "code",
   "execution_count": null,
   "metadata": {},
   "outputs": [],
   "source": [
    "# Visualization\n",
    "for i in range(model.n_clusters):\n",
    "    plt.scatter(data_pca_label_[cluster==i,0],data_pca_label_[cluster==i,1]);"
   ]
  },
  {
   "cell_type": "code",
   "execution_count": null,
   "metadata": {},
   "outputs": [],
   "source": []
  },
  {
   "cell_type": "code",
   "execution_count": null,
   "metadata": {},
   "outputs": [],
   "source": [
    "# 問題11:既知のグループとの比較"
   ]
  },
  {
   "cell_type": "code",
   "execution_count": null,
   "metadata": {},
   "outputs": [],
   "source": [
    "feature = 'Channel'\n",
    "\n",
    "fig = plt.figure()\n",
    "ax = fig.add_subplot() \n",
    "ax = sns.distplot(data[feature])\n",
    "\n",
    "plt.title(feature);"
   ]
  },
  {
   "cell_type": "code",
   "execution_count": null,
   "metadata": {},
   "outputs": [],
   "source": [
    "feature = 'Region'\n",
    "\n",
    "fig = plt.figure()\n",
    "ax = fig.add_subplot() \n",
    "ax = sns.distplot(data[feature])\n",
    "\n",
    "plt.title(feature);"
   ]
  },
  {
   "cell_type": "code",
   "execution_count": null,
   "metadata": {},
   "outputs": [],
   "source": [
    "feature = 'Cluster'\n",
    "\n",
    "fig = plt.figure()\n",
    "ax = fig.add_subplot() \n",
    "ax = sns.distplot(data[feature])\n",
    "\n",
    "plt.title(feature);"
   ]
  },
  {
   "cell_type": "code",
   "execution_count": null,
   "metadata": {},
   "outputs": [],
   "source": []
  },
  {
   "cell_type": "code",
   "execution_count": null,
   "metadata": {},
   "outputs": [],
   "source": [
    "# 問題12:卸売業者にとって有益な情報"
   ]
  },
  {
   "cell_type": "code",
   "execution_count": null,
   "metadata": {},
   "outputs": [],
   "source": [
    "data.groupby(['Channel','Region','Cluster']).agg(['mean','max','min'])"
   ]
  },
  {
   "cell_type": "code",
   "execution_count": null,
   "metadata": {},
   "outputs": [],
   "source": [
    "# ペアプロット\n",
    "sns.pairplot(data,hue='Cluster');"
   ]
  },
  {
   "cell_type": "code",
   "execution_count": null,
   "metadata": {},
   "outputs": [],
   "source": []
  },
  {
   "cell_type": "code",
   "execution_count": null,
   "metadata": {},
   "outputs": [],
   "source": [
    "# 問題13:(アドバンス課題)他の手法の調査"
   ]
  },
  {
   "cell_type": "code",
   "execution_count": null,
   "metadata": {},
   "outputs": [],
   "source": []
  },
  {
   "cell_type": "code",
   "execution_count": null,
   "metadata": {},
   "outputs": [],
   "source": [
    "# 問題14:(アドバンス課題)t-SNEとDBSCANの利用"
   ]
  },
  {
   "cell_type": "code",
   "execution_count": null,
   "metadata": {},
   "outputs": [],
   "source": [
    "\n",
    "# import\n",
    "from sklearn.manifold import TSNE\n",
    "from sklearn.cluster import DBSCAN"
   ]
  },
  {
   "cell_type": "code",
   "execution_count": null,
   "metadata": {},
   "outputs": [],
   "source": [
    "data_embedded = TSNE(n_components=2).fit_transform(data_log)"
   ]
  },
  {
   "cell_type": "code",
   "execution_count": null,
   "metadata": {},
   "outputs": [],
   "source": [
    "clusteringDBSCAN = DBSCAN(eps=2, min_samples=2).fit(data_embedded)\n",
    "clusteringDBSCAN.labels_"
   ]
  },
  {
   "cell_type": "code",
   "execution_count": null,
   "metadata": {},
   "outputs": [],
   "source": [
    "# 可視化\n",
    "unique = np.unique(clusteringDBSCAN.labels_)\n",
    "for i in unique:\n",
    "    plt.scatter(data_pca_label_[clusteringDBSCAN.labels_==i,0],data_pca_label_[clusteringDBSCAN.labels_==i,1]);"
   ]
  },
  {
   "cell_type": "code",
   "execution_count": null,
   "metadata": {},
   "outputs": [],
   "source": [
    "# k=2 clustering\n",
    "model = ScratchKMeans_speed(n_clusters=2,n_init=100,max_iter=1000,tol=1e-5)\n",
    "model.fit(data_pca)\n",
    "\n",
    "# クラスタリング後のラベル値\n",
    "cluster = model.y_km\n",
    "\n",
    "# データとの結合\n",
    "data['Cluster'] = cluster\n",
    "\n",
    "data.groupby(['Channel','Region','Cluster']).agg(['mean','max','min'])"
   ]
  },
  {
   "cell_type": "code",
   "execution_count": null,
   "metadata": {},
   "outputs": [],
   "source": [
    "data.groupby(['Channel','Cluster']).mean()"
   ]
  },
  {
   "cell_type": "code",
   "execution_count": null,
   "metadata": {},
   "outputs": [],
   "source": [
    "data.groupby(['Region','Cluster']).mean()"
   ]
  },
  {
   "cell_type": "code",
   "execution_count": null,
   "metadata": {},
   "outputs": [],
   "source": [
    "# ペアプロット\n",
    "sns.pairplot(data,hue='Cluster');"
   ]
  },
  {
   "cell_type": "code",
   "execution_count": null,
   "metadata": {},
   "outputs": [],
   "source": []
  },
  {
   "cell_type": "code",
   "execution_count": null,
   "metadata": {},
   "outputs": [],
   "source": []
  },
  {
   "cell_type": "code",
   "execution_count": null,
   "metadata": {},
   "outputs": [],
   "source": []
  },
  {
   "cell_type": "code",
   "execution_count": null,
   "metadata": {},
   "outputs": [],
   "source": []
  },
  {
   "cell_type": "code",
   "execution_count": null,
   "metadata": {},
   "outputs": [],
   "source": []
  }
 ],
 "metadata": {
  "kernelspec": {
   "display_name": "base",
   "language": "python",
   "name": "python3"
  },
  "language_info": {
   "codemirror_mode": {
    "name": "ipython",
    "version": 3
   },
   "file_extension": ".py",
   "mimetype": "text/x-python",
   "name": "python",
   "nbconvert_exporter": "python",
   "pygments_lexer": "ipython3",
   "version": "3.9.12"
  },
  "orig_nbformat": 4,
  "vscode": {
   "interpreter": {
    "hash": "bde1ea82a499da0f3bee45254b930e19212c5f0c991811db65179495d8206895"
   }
  }
 },
 "nbformat": 4,
 "nbformat_minor": 2
}
